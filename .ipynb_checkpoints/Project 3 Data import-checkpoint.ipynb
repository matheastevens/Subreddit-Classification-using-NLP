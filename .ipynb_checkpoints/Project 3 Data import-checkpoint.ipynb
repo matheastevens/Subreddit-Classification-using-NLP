{
 "cells": [
  {
   "cell_type": "code",
   "execution_count": 2,
   "metadata": {},
   "outputs": [],
   "source": [
    "import pandas as pd\n",
    "import requests\n",
    "import time"
   ]
  },
  {
   "cell_type": "code",
   "execution_count": 3,
   "metadata": {},
   "outputs": [],
   "source": [
    "api = 'https://api.pushshift.io/reddit/search/submission'\n"
   ]
  },
  {
   "cell_type": "code",
   "execution_count": 4,
   "metadata": {},
   "outputs": [],
   "source": [
    "#We will have to do our initial import before we can automate the process. \n",
    "def get_initial_data(subreddit):\n",
    "    params = {\n",
    "        'subreddit': subreddit,\n",
    "        'size':100\n",
    "            }\n",
    "    res = requests.get(api, params)\n",
    "    data = res.json()\n",
    "    data = pd.DataFrame(data['data'])\n",
    "    return(data)"
   ]
  },
  {
   "cell_type": "code",
   "execution_count": 5,
   "metadata": {},
   "outputs": [
    {
     "name": "stdout",
     "output_type": "stream",
     "text": [
      "(200, 76)\n",
      "(300, 76)\n",
      "(400, 76)\n",
      "(500, 76)\n",
      "(600, 76)\n",
      "(700, 76)\n",
      "(800, 77)\n",
      "(900, 79)\n",
      "(1000, 79)\n",
      "(1100, 79)\n",
      "(1200, 79)\n"
     ]
    }
   ],
   "source": [
    "wsb = get_initial_data('wallstreetbets')\n",
    "utc_stamp = wsb.iloc[-1]['created_utc']\n",
    "\n",
    "counter = 1\n",
    "while counter < 12:\n",
    "    params = {\n",
    "        'subreddit': 'wallstreetbets',\n",
    "        'size':100,\n",
    "        'before': utc_stamp\n",
    "        }\n",
    "    res = requests.get(api, params)\n",
    "    data = res.json()\n",
    "    data = pd.DataFrame(data['data'])\n",
    "    utc_stamp = data.iloc[-1]['created_utc']\n",
    "    wsb = pd.concat([wsb, data], axis = 0, ignore_index=False )\n",
    "    counter += 1\n",
    "    print(wsb.shape) "
   ]
  },
  {
   "cell_type": "code",
   "execution_count": 6,
   "metadata": {},
   "outputs": [
    {
     "name": "stdout",
     "output_type": "stream",
     "text": [
      "(200, 73)\n",
      "(300, 73)\n",
      "(400, 73)\n",
      "(500, 73)\n",
      "(600, 73)\n",
      "(700, 73)\n",
      "(800, 73)\n",
      "(900, 73)\n",
      "(1000, 73)\n",
      "(1100, 73)\n",
      "(1200, 73)\n"
     ]
    }
   ],
   "source": [
    "ci = get_initial_data('PersonalFinanceCanada')\n",
    "utc_stamp = ci.iloc[-1]['created_utc']\n",
    "\n",
    "counter = 1\n",
    "while counter < 12:\n",
    "    params = {\n",
    "        'subreddit': 'PersonalFinanceCanada',\n",
    "        'size':100,\n",
    "        'before': utc_stamp\n",
    "        }\n",
    "    res = requests.get(api, params)\n",
    "    data = res.json()\n",
    "    data = pd.DataFrame(data['data'])\n",
    "    utc_stamp = data.iloc[-1]['created_utc']\n",
    "    ci = pd.concat([ci, data], axis = 0, ignore_index=False )\n",
    "    counter += 1\n",
    "    print(ci.shape) "
   ]
  },
  {
   "cell_type": "code",
   "execution_count": 7,
   "metadata": {
    "scrolled": true
   },
   "outputs": [
    {
     "name": "stdout",
     "output_type": "stream",
     "text": [
      "<class 'pandas.core.frame.DataFrame'>\n",
      "Int64Index: 2400 entries, 0 to 99\n",
      "Data columns (total 82 columns):\n",
      " #   Column                         Non-Null Count  Dtype  \n",
      "---  ------                         --------------  -----  \n",
      " 0   all_awardings                  2400 non-null   object \n",
      " 1   allow_live_comments            2400 non-null   bool   \n",
      " 2   author                         2400 non-null   object \n",
      " 3   author_flair_css_class         0 non-null      object \n",
      " 4   author_flair_richtext          2388 non-null   object \n",
      " 5   author_flair_text              57 non-null     object \n",
      " 6   author_flair_type              2388 non-null   object \n",
      " 7   author_fullname                2388 non-null   object \n",
      " 8   author_patreon_flair           2388 non-null   object \n",
      " 9   author_premium                 2388 non-null   object \n",
      " 10  awarders                       2400 non-null   object \n",
      " 11  can_mod_post                   2400 non-null   bool   \n",
      " 12  contest_mode                   2400 non-null   bool   \n",
      " 13  created_utc                    2400 non-null   int64  \n",
      " 14  domain                         2400 non-null   object \n",
      " 15  full_link                      2400 non-null   object \n",
      " 16  gildings                       2400 non-null   object \n",
      " 17  id                             2400 non-null   object \n",
      " 18  is_crosspostable               2400 non-null   bool   \n",
      " 19  is_meta                        2400 non-null   bool   \n",
      " 20  is_original_content            2400 non-null   bool   \n",
      " 21  is_reddit_media_domain         2400 non-null   bool   \n",
      " 22  is_robot_indexable             2400 non-null   bool   \n",
      " 23  is_self                        2400 non-null   bool   \n",
      " 24  is_video                       2400 non-null   bool   \n",
      " 25  link_flair_background_color    2400 non-null   object \n",
      " 26  link_flair_css_class           1655 non-null   object \n",
      " 27  link_flair_richtext            2400 non-null   object \n",
      " 28  link_flair_template_id         1655 non-null   object \n",
      " 29  link_flair_text                1655 non-null   object \n",
      " 30  link_flair_text_color          2400 non-null   object \n",
      " 31  link_flair_type                2400 non-null   object \n",
      " 32  locked                         2400 non-null   bool   \n",
      " 33  media_only                     2400 non-null   bool   \n",
      " 34  no_follow                      2400 non-null   bool   \n",
      " 35  num_comments                   2400 non-null   int64  \n",
      " 36  num_crossposts                 2400 non-null   int64  \n",
      " 37  over_18                        2400 non-null   bool   \n",
      " 38  parent_whitelist_status        2400 non-null   object \n",
      " 39  permalink                      2400 non-null   object \n",
      " 40  pinned                         2400 non-null   bool   \n",
      " 41  pwls                           2400 non-null   int64  \n",
      " 42  removed_by_category            711 non-null    object \n",
      " 43  retrieved_on                   2400 non-null   int64  \n",
      " 44  score                          2400 non-null   int64  \n",
      " 45  selftext                       2398 non-null   object \n",
      " 46  send_replies                   2400 non-null   bool   \n",
      " 47  spoiler                        2400 non-null   bool   \n",
      " 48  stickied                       2400 non-null   bool   \n",
      " 49  subreddit                      2400 non-null   object \n",
      " 50  subreddit_id                   2400 non-null   object \n",
      " 51  subreddit_subscribers          2400 non-null   int64  \n",
      " 52  subreddit_type                 2400 non-null   object \n",
      " 53  suggested_sort                 2400 non-null   object \n",
      " 54  thumbnail                      2400 non-null   object \n",
      " 55  title                          2400 non-null   object \n",
      " 56  total_awards_received          2400 non-null   int64  \n",
      " 57  treatment_tags                 2400 non-null   object \n",
      " 58  upvote_ratio                   2400 non-null   float64\n",
      " 59  url                            2400 non-null   object \n",
      " 60  whitelist_status               2400 non-null   object \n",
      " 61  wls                            2400 non-null   int64  \n",
      " 62  post_hint                      634 non-null    object \n",
      " 63  preview                        634 non-null    object \n",
      " 64  url_overridden_by_dest         586 non-null    object \n",
      " 65  thumbnail_height               552 non-null    float64\n",
      " 66  thumbnail_width                552 non-null    float64\n",
      " 67  is_gallery                     33 non-null     object \n",
      " 68  media_metadata                 34 non-null     object \n",
      " 69  media                          38 non-null     object \n",
      " 70  media_embed                    21 non-null     object \n",
      " 71  secure_media                   38 non-null     object \n",
      " 72  secure_media_embed             21 non-null     object \n",
      " 73  author_flair_background_color  78 non-null     object \n",
      " 74  author_flair_text_color        97 non-null     object \n",
      " 75  gallery_data                   18 non-null     object \n",
      " 76  banned_by                      2 non-null      object \n",
      " 77  author_flair_template_id       21 non-null     object \n",
      " 78  author_cakeday                 3 non-null      object \n",
      " 79  crosspost_parent               6 non-null      object \n",
      " 80  crosspost_parent_list          6 non-null      object \n",
      " 81  edited                         3 non-null      float64\n",
      "dtypes: bool(18), float64(4), int64(9), object(51)\n",
      "memory usage: 1.2+ MB\n"
     ]
    }
   ],
   "source": [
    "df = pd.concat([wsb, ci], axis = 0, ignore_index=False)\n",
    "df.info()"
   ]
  },
  {
   "cell_type": "code",
   "execution_count": 8,
   "metadata": {},
   "outputs": [],
   "source": [
    "df.to_csv('PFC and WSB 20200222')"
   ]
  }
 ],
 "metadata": {
  "kernelspec": {
   "display_name": "Python 3",
   "language": "python",
   "name": "python3"
  },
  "language_info": {
   "codemirror_mode": {
    "name": "ipython",
    "version": 3
   },
   "file_extension": ".py",
   "mimetype": "text/x-python",
   "name": "python",
   "nbconvert_exporter": "python",
   "pygments_lexer": "ipython3",
   "version": "3.8.5"
  }
 },
 "nbformat": 4,
 "nbformat_minor": 4
}
